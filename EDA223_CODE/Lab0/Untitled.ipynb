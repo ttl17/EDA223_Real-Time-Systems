{
 "cells": [
  {
   "cell_type": "code",
   "execution_count": 23,
   "metadata": {},
   "outputs": [
    {
     "name": "stdout",
     "output_type": "stream",
     "text": [
      "[-10  -9  -8  -7  -6  -5  -4  -3  -2  -1   0   1   2   3   4   5   6   7\n",
      "   8   9  10  11  12  13  14]\n",
      "[ 246.94165063  261.6255653   277.18263098  293.66476792  311.12698372\n",
      "  329.62755691  349.22823143  369.99442271  391.99543598  415.30469758\n",
      "  440.          466.16376152  493.88330126  523.2511306   554.36526195\n",
      "  587.32953583  622.25396744  659.25511383  698.45646287  739.98884542\n",
      "  783.99087196  830.60939516  880.          932.32752304  987.76660251]\n",
      "[2024 1911 1803 1702 1607 1516 1431 1351 1275 1203 1136 1072 1012  955  901\n",
      "  851  803  758  715  675  637  601  568  536  506]\n"
     ]
    }
   ],
   "source": [
    "import numpy as np\n",
    "\n",
    "indices = np.r_[0, 2, 4, 0, 0, 2, 4, 0, 4, 5, 7, 4, 5, 7, 7, 9, 7, 5, 4, 0, 7, 9, 7, 5, 4, 0, 0, -5, 0, 0, -5, 0]\n",
    "indices = np.arange(-10,15)\n",
    "print(indices)\n",
    "tunes = 440.*pow(2,indices/12.)\n",
    "print(tunes)\n",
    "periods = np.int32(1e6*(1/(2*tunes)))\n",
    "\n",
    "print(periods)"
   ]
  },
  {
   "cell_type": "code",
   "execution_count": null,
   "metadata": {
    "collapsed": true
   },
   "outputs": [],
   "source": []
  }
 ],
 "metadata": {
  "kernelspec": {
   "display_name": "Python 3",
   "language": "python",
   "name": "python3"
  },
  "language_info": {
   "codemirror_mode": {
    "name": "ipython",
    "version": 3
   },
   "file_extension": ".py",
   "mimetype": "text/x-python",
   "name": "python",
   "nbconvert_exporter": "python",
   "pygments_lexer": "ipython3",
   "version": "3.6.2"
  }
 },
 "nbformat": 4,
 "nbformat_minor": 2
}
